{
 "cells": [
  {
   "cell_type": "code",
   "execution_count": null,
   "metadata": {},
   "outputs": [],
   "source": [
    "from keras.models import load_model\n",
    "import numpy as np\n",
    "%matplotlib inline\n",
    "import matplotlib.pyplot as plt\n",
    "import cv2\n",
    "\n",
    "model = load_model('model_finger_2.h6')\n",
    "\n",
    "IMG_SIZE = 128\n",
    "\n",
    "\n",
    "img = cv2.imread('FOUR_123.png',cv2.IMREAD_GRAYSCALE)\n",
    "\n",
    "\n",
    "img = cv2.resize(img, (IMG_SIZE, IMG_SIZE)).tolist()\n",
    "img = np.array(img, dtype='int8').reshape(-1, IMG_SIZE, IMG_SIZE, 1)\n",
    "CATEGORIES = [\"NONE\", \"ONE\", \"TWO\", \"THREE\", \"FOUR\", \"FIVE\"]\n",
    "pred = CATEGORIES[np.argmax(model.predict(img))]\n",
    "print(pred)\n",
    "\n"
   ]
  }
 ],
 "metadata": {
  "kernelspec": {
   "display_name": "Python 3",
   "language": "python",
   "name": "python3"
  },
  "language_info": {
   "codemirror_mode": {
    "name": "ipython",
    "version": 3
   },
   "file_extension": ".py",
   "mimetype": "text/x-python",
   "name": "python",
   "nbconvert_exporter": "python",
   "pygments_lexer": "ipython3",
   "version": "3.7.6"
  }
 },
 "nbformat": 4,
 "nbformat_minor": 4
}
